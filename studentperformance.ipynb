{
  "nbformat": 4,
  "nbformat_minor": 0,
  "metadata": {
    "colab": {
      "provenance": [],
      "authorship_tag": "ABX9TyMWp9If6rJ0t3NLT3Df2Sr0",
      "include_colab_link": true
    },
    "kernelspec": {
      "name": "python3",
      "display_name": "Python 3"
    },
    "language_info": {
      "name": "python"
    }
  },
  "cells": [
    {
      "cell_type": "markdown",
      "metadata": {
        "id": "view-in-github",
        "colab_type": "text"
      },
      "source": [
        "<a href=\"https://colab.research.google.com/github/Rishabhjain2003/Student_Performance/blob/main/studentperformance.ipynb\" target=\"_parent\"><img src=\"https://colab.research.google.com/assets/colab-badge.svg\" alt=\"Open In Colab\"/></a>"
      ]
    },
    {
      "cell_type": "code",
      "execution_count": null,
      "metadata": {
        "id": "2DfUIMIAb2VU"
      },
      "outputs": [],
      "source": [
        "import pandas as pd\n",
        "import numpy as np"
      ]
    },
    {
      "cell_type": "code",
      "source": [
        "d1 = pd.read_csv(\"student-mat.csv\", delimiter=\";\")\n",
        "d2 = pd.read_csv(\"student-por.csv\", delimiter=\";\")\n",
        "print(d1.head())\n",
        "print(d2.head())"
      ],
      "metadata": {
        "colab": {
          "base_uri": "https://localhost:8080/"
        },
        "id": "wMnabepTfWan",
        "outputId": "4f52a224-862b-4ebf-c3ae-ca2b1bdd4e63"
      },
      "execution_count": null,
      "outputs": [
        {
          "output_type": "stream",
          "name": "stdout",
          "text": [
            "  school sex  age address famsize Pstatus  Medu  Fedu     Mjob      Fjob  ...  \\\n",
            "0     GP   F   18       U     GT3       A     4     4  at_home   teacher  ...   \n",
            "1     GP   F   17       U     GT3       T     1     1  at_home     other  ...   \n",
            "2     GP   F   15       U     LE3       T     1     1  at_home     other  ...   \n",
            "3     GP   F   15       U     GT3       T     4     2   health  services  ...   \n",
            "4     GP   F   16       U     GT3       T     3     3    other     other  ...   \n",
            "\n",
            "  famrel freetime  goout  Dalc  Walc health absences  G1  G2  G3  \n",
            "0      4        3      4     1     1      3        6   5   6   6  \n",
            "1      5        3      3     1     1      3        4   5   5   6  \n",
            "2      4        3      2     2     3      3       10   7   8  10  \n",
            "3      3        2      2     1     1      5        2  15  14  15  \n",
            "4      4        3      2     1     2      5        4   6  10  10  \n",
            "\n",
            "[5 rows x 33 columns]\n",
            "  school sex  age address famsize Pstatus  Medu  Fedu     Mjob      Fjob  ...  \\\n",
            "0     GP   F   18       U     GT3       A     4     4  at_home   teacher  ...   \n",
            "1     GP   F   17       U     GT3       T     1     1  at_home     other  ...   \n",
            "2     GP   F   15       U     LE3       T     1     1  at_home     other  ...   \n",
            "3     GP   F   15       U     GT3       T     4     2   health  services  ...   \n",
            "4     GP   F   16       U     GT3       T     3     3    other     other  ...   \n",
            "\n",
            "  famrel freetime  goout  Dalc  Walc health absences  G1  G2  G3  \n",
            "0      4        3      4     1     1      3        4   0  11  11  \n",
            "1      5        3      3     1     1      3        2   9  11  11  \n",
            "2      4        3      2     2     3      3        6  12  13  12  \n",
            "3      3        2      2     1     1      5        0  14  14  14  \n",
            "4      4        3      2     1     2      5        0  11  13  13  \n",
            "\n",
            "[5 rows x 33 columns]\n"
          ]
        }
      ]
    },
    {
      "cell_type": "code",
      "source": [
        "merged_df = pd.concat([d1, d2])\n",
        "print(merged_df)"
      ],
      "metadata": {
        "colab": {
          "base_uri": "https://localhost:8080/"
        },
        "id": "tcrIt0cep5Yx",
        "outputId": "6a331996-2a8e-441c-9422-ddbe577be7fd"
      },
      "execution_count": null,
      "outputs": [
        {
          "output_type": "stream",
          "name": "stdout",
          "text": [
            "    school sex  age address famsize Pstatus  Medu  Fedu      Mjob      Fjob  \\\n",
            "0       GP   F   18       U     GT3       A     4     4   at_home   teacher   \n",
            "1       GP   F   17       U     GT3       T     1     1   at_home     other   \n",
            "2       GP   F   15       U     LE3       T     1     1   at_home     other   \n",
            "3       GP   F   15       U     GT3       T     4     2    health  services   \n",
            "4       GP   F   16       U     GT3       T     3     3     other     other   \n",
            "..     ...  ..  ...     ...     ...     ...   ...   ...       ...       ...   \n",
            "644     MS   F   19       R     GT3       T     2     3  services     other   \n",
            "645     MS   F   18       U     LE3       T     3     1   teacher  services   \n",
            "646     MS   F   18       U     GT3       T     1     1     other     other   \n",
            "647     MS   M   17       U     LE3       T     3     1  services  services   \n",
            "648     MS   M   18       R     LE3       T     3     2  services     other   \n",
            "\n",
            "     ... famrel freetime  goout  Dalc  Walc health absences  G1  G2  G3  \n",
            "0    ...      4        3      4     1     1      3        6   5   6   6  \n",
            "1    ...      5        3      3     1     1      3        4   5   5   6  \n",
            "2    ...      4        3      2     2     3      3       10   7   8  10  \n",
            "3    ...      3        2      2     1     1      5        2  15  14  15  \n",
            "4    ...      4        3      2     1     2      5        4   6  10  10  \n",
            "..   ...    ...      ...    ...   ...   ...    ...      ...  ..  ..  ..  \n",
            "644  ...      5        4      2     1     2      5        4  10  11  10  \n",
            "645  ...      4        3      4     1     1      1        4  15  15  16  \n",
            "646  ...      1        1      1     1     1      5        6  11  12   9  \n",
            "647  ...      2        4      5     3     4      2        6  10  10  10  \n",
            "648  ...      4        4      1     3     4      5        4  10  11  11  \n",
            "\n",
            "[1044 rows x 33 columns]\n"
          ]
        }
      ]
    },
    {
      "cell_type": "markdown",
      "source": [],
      "metadata": {
        "id": "X8TZ-kJfrkpu"
      }
    },
    {
      "cell_type": "markdown",
      "source": [],
      "metadata": {
        "id": "Bal2Osdeuz-R"
      }
    },
    {
      "cell_type": "markdown",
      "source": [],
      "metadata": {
        "id": "Fq4vEPv6uzy-"
      }
    },
    {
      "cell_type": "code",
      "source": [
        "def convert_to_binary(value):\n",
        "  if value == 'yes':\n",
        "    return 1\n",
        "  elif value == 'no':\n",
        "    return 0\n",
        "  else:\n",
        "    return np.nan\n",
        "merged_df['schoolsup'] = merged_df['schoolsup'].map(convert_to_binary)\n",
        "merged_df['paid'] = merged_df['paid'].map(convert_to_binary)\n",
        "merged_df['famsup'] = merged_df['famsup'].map(convert_to_binary)\n",
        "merged_df['romantic'] = merged_df['romantic'].map(convert_to_binary)\n",
        "merged_df['activities'] = merged_df['activities'].map(convert_to_binary)\n",
        "merged_df['nursery'] = merged_df['nursery'].map(convert_to_binary)\n",
        "merged_df['higher'] = merged_df['higher'].map(convert_to_binary)\n",
        "merged_df['internet'] = merged_df['internet'].map(convert_to_binary)\n",
        "\n",
        "print(merged_df.head())"
      ],
      "metadata": {
        "colab": {
          "base_uri": "https://localhost:8080/"
        },
        "id": "NC5qnOXHv5CU",
        "outputId": "4e445d7f-3117-4e17-a186-c06fe6ec8f04"
      },
      "execution_count": null,
      "outputs": [
        {
          "output_type": "stream",
          "name": "stdout",
          "text": [
            "  school sex  age address famsize Pstatus  Medu  Fedu     Mjob      Fjob  ...  \\\n",
            "0     GP   F   18       U     GT3       A     4     4  at_home   teacher  ...   \n",
            "1     GP   F   17       U     GT3       T     1     1  at_home     other  ...   \n",
            "2     GP   F   15       U     LE3       T     1     1  at_home     other  ...   \n",
            "3     GP   F   15       U     GT3       T     4     2   health  services  ...   \n",
            "4     GP   F   16       U     GT3       T     3     3    other     other  ...   \n",
            "\n",
            "  famrel freetime  goout  Dalc  Walc  health  absences  G1  G2  G3  \n",
            "0      4        3      4     1     1       3         6   5   6   6  \n",
            "1      5        3      3     1     1       3         4   5   5   6  \n",
            "2      4        3      2     2     3       3        10   7   8  10  \n",
            "3      3        2      2     1     1       5         2  15  14  15  \n",
            "4      4        3      2     1     2       5         4   6  10  10  \n",
            "\n",
            "[5 rows x 33 columns]\n"
          ]
        }
      ]
    },
    {
      "cell_type": "code",
      "source": [
        "x = merged_df.drop(columns = ['address', 'G3', 'guardian', 'school', 'sex', 'famsize', 'Pstatus', 'Mjob', 'Fjob', 'reason' ])\n",
        "y = merged_df['G3']\n",
        "print(x)\n",
        "print(y)"
      ],
      "metadata": {
        "colab": {
          "base_uri": "https://localhost:8080/"
        },
        "id": "C7WsN14iwyI5",
        "outputId": "2be39b67-dc0d-4e29-cc59-2cc9a84f66b7"
      },
      "execution_count": null,
      "outputs": [
        {
          "output_type": "stream",
          "name": "stdout",
          "text": [
            "     age  Medu  Fedu  traveltime  studytime  failures  schoolsup  famsup  \\\n",
            "0     18     4     4           2          2         0          1       0   \n",
            "1     17     1     1           1          2         0          0       1   \n",
            "2     15     1     1           1          2         3          1       0   \n",
            "3     15     4     2           1          3         0          0       1   \n",
            "4     16     3     3           1          2         0          0       1   \n",
            "..   ...   ...   ...         ...        ...       ...        ...     ...   \n",
            "644   19     2     3           1          3         1          0       0   \n",
            "645   18     3     1           1          2         0          0       1   \n",
            "646   18     1     1           2          2         0          0       0   \n",
            "647   17     3     1           2          1         0          0       0   \n",
            "648   18     3     2           3          1         0          0       0   \n",
            "\n",
            "     paid  activities  ...  romantic  famrel  freetime  goout  Dalc  Walc  \\\n",
            "0       0           0  ...         0       4         3      4     1     1   \n",
            "1       0           0  ...         0       5         3      3     1     1   \n",
            "2       1           0  ...         0       4         3      2     2     3   \n",
            "3       1           1  ...         1       3         2      2     1     1   \n",
            "4       1           0  ...         0       4         3      2     1     2   \n",
            "..    ...         ...  ...       ...     ...       ...    ...   ...   ...   \n",
            "644     0           1  ...         0       5         4      2     1     2   \n",
            "645     0           0  ...         0       4         3      4     1     1   \n",
            "646     0           1  ...         0       1         1      1     1     1   \n",
            "647     0           0  ...         0       2         4      5     3     4   \n",
            "648     0           0  ...         0       4         4      1     3     4   \n",
            "\n",
            "     health  absences  G1  G2  \n",
            "0         3         6   5   6  \n",
            "1         3         4   5   5  \n",
            "2         3        10   7   8  \n",
            "3         5         2  15  14  \n",
            "4         5         4   6  10  \n",
            "..      ...       ...  ..  ..  \n",
            "644       5         4  10  11  \n",
            "645       1         4  15  15  \n",
            "646       5         6  11  12  \n",
            "647       2         6  10  10  \n",
            "648       5         4  10  11  \n",
            "\n",
            "[1044 rows x 23 columns]\n",
            "0       6\n",
            "1       6\n",
            "2      10\n",
            "3      15\n",
            "4      10\n",
            "       ..\n",
            "644    10\n",
            "645    16\n",
            "646     9\n",
            "647    10\n",
            "648    11\n",
            "Name: G3, Length: 1044, dtype: int64\n"
          ]
        }
      ]
    },
    {
      "cell_type": "code",
      "source": [
        "from sklearn.model_selection import train_test_split\n",
        "from sklearn.linear_model import LinearRegression\n",
        "from sklearn.metrics import mean_squared_error\n",
        "\n",
        "test_size = 0.2\n",
        "X_train, X_test, y_train, y_test = train_test_split(x, y, test_size=test_size, random_state=42)\n",
        "\n",
        "model = LinearRegression()\n",
        "\n",
        "model.fit(X_train, y_train)\n",
        "\n",
        "y_predicted = model.predict(X_test)\n",
        "\n",
        "mse = mean_squared_error(y_test, y_predicted)\n",
        "print(f\"Mean Squared Error: {mse}\")\n",
        "\n",
        "print(f\"Model coefficients: {model.coef_}\")\n",
        "print(f\"Model intercept: {model.intercept_}\")"
      ],
      "metadata": {
        "colab": {
          "base_uri": "https://localhost:8080/"
        },
        "id": "E-RZ-43LuZe8",
        "outputId": "15c3da32-3df6-4d74-e035-cdc0f50161b5"
      },
      "execution_count": null,
      "outputs": [
        {
          "output_type": "stream",
          "name": "stdout",
          "text": [
            "Mean Squared Error: 3.0914916497174185\n",
            "Model coefficients: [-0.03802112  0.0143693  -0.04045752  0.12761046 -0.07938575 -0.32238982\n",
            "  0.01515676  0.19825199 -0.37577033 -0.16608837 -0.18440839  0.00183457\n",
            " -0.00648666 -0.06215379  0.06074074 -0.05338076  0.10129937  0.01350161\n",
            "  0.01482751 -0.00658948  0.02524616  0.15161763  0.94464797]\n",
            "Model intercept: -0.5577225206733694\n"
          ]
        }
      ]
    },
    {
      "cell_type": "code",
      "source": [
        "print(y_test)\n",
        "print(y_predicted)"
      ],
      "metadata": {
        "colab": {
          "base_uri": "https://localhost:8080/"
        },
        "id": "yC66ItHhyqR6",
        "outputId": "93d3eb99-9951-4a80-d065-17ea8685f0f3"
      },
      "execution_count": null,
      "outputs": [
        {
          "output_type": "stream",
          "name": "stdout",
          "text": [
            "576    11\n",
            "280     8\n",
            "141    13\n",
            "429    11\n",
            "249    12\n",
            "       ..\n",
            "294    13\n",
            "453     8\n",
            "222    13\n",
            "63     13\n",
            "609    12\n",
            "Name: G3, Length: 209, dtype: int64\n",
            "[10.57230551  8.15783219 14.14105193 11.13860379 12.04334525 11.99816473\n",
            "  5.73880358 10.66782791 14.44382112 13.13629105 15.51801668  6.84946412\n",
            "  6.82054811 10.99997992  7.59526759 12.06895375  8.59444979 16.58642816\n",
            " 10.94198095 12.05889848  9.22724203 16.57852924 11.21696875  0.02343926\n",
            " 16.24694317 11.4209418  17.90359619 16.40934474 11.3161606   9.16414454\n",
            " 10.03307087  9.51395458 18.77483977 10.84788975 15.23069145 14.04924376\n",
            " 15.20450259 18.72168603  9.17944789 13.04871232 15.71715409 17.22019593\n",
            " 11.42761979  8.43572069 14.82923882 10.13212755 10.8656536  16.66313763\n",
            " 12.8209017  11.06719465 11.20068679 15.09475405 10.32681368  9.74754899\n",
            "  6.62427472 10.33484226 10.9706738  13.67218882 17.50458521  7.05818178\n",
            "  9.97363003  7.79918363  7.04404214 12.42803772  6.56431602  9.40325916\n",
            "  8.9760685   6.20843989  9.37292394 19.49259657 11.55372689 14.49980461\n",
            "  8.53299794  8.30543231  8.4002832   9.48255164  6.21361165  7.73060627\n",
            "  7.21073745 13.28084849 13.5253855  12.48636031  9.66713868  8.86154247\n",
            " 15.8851057  14.77720803  7.35170504  6.64764632  6.75582677 10.7578066\n",
            " 15.5091654  -0.78609885  9.37741659 14.0201664  12.25094665 11.7408781\n",
            " 10.18927321  8.43226252 13.16129498 10.66960943 15.11883172 13.84993147\n",
            " 12.88065258 13.52151238 10.60045117 15.0162185  18.41111024 10.98715477\n",
            "  9.05396754 11.50557525 13.96642446  8.66817451 19.76405514 15.46164354\n",
            "  8.96674526 13.50643225 12.37543706 10.17945171 11.50399635  8.62215695\n",
            " 10.03541073  7.77586144 13.139503    9.77484552 16.73426475  8.64433922\n",
            " 10.56977271 12.53006725 11.66138796  6.88544994  7.1937528   7.99761371\n",
            " 12.85889279 11.90638226  0.88490189  8.4191464   4.10134955 17.847694\n",
            " 14.19121206 13.22184408 10.81668938  6.46700708  8.18279345  6.99212639\n",
            " 12.80710184 14.42650242  8.82535442 13.18053142  7.741203    7.22343957\n",
            " 10.36543952 15.62490191 10.85189574  8.18293322 13.31638527 13.38055703\n",
            "  8.99705453 13.04481894 11.81506655 10.14799505  6.50597327 10.88701031\n",
            " 12.60499855 10.62581073 12.52035835 11.77745116  9.08594162 14.41679373\n",
            "  8.88243585 15.47577621 11.10567641 13.49279201 10.78193762 16.42631219\n",
            " 13.37539377 15.4412778  14.98949991 12.841558    9.95401087  9.69554429\n",
            "  8.77008695  7.61365924  6.50717159  8.51805102  7.56038833  9.87474275\n",
            "  8.47863762 15.83162164  9.9447141   7.94963605  5.72849901 10.47478111\n",
            "  9.94236234 11.98901471  9.204352   13.5424679  -0.09462383  9.03411537\n",
            " 11.86352589 14.83986826  7.80285715 14.32727678  0.45811317 12.31095832\n",
            " 11.04178942  7.54349126 13.47497573 13.35467964 11.15341887]\n"
          ]
        }
      ]
    }
  ]
}